{
 "cells": [
  {
   "cell_type": "markdown",
   "id": "8c1511df",
   "metadata": {},
   "source": [
    "# Ventus tutorial @ MICRO 2025\n",
    "\n",
    "Simulation Part\n",
    "\n",
    "20251018"
   ]
  },
  {
   "cell_type": "markdown",
   "id": "5a92af33",
   "metadata": {},
   "source": [
    "## Welcome to Ventus GPGPU\n",
    "\n",
    "Let's start with configuring the simulation environment.\n",
    "\n",
    "All Ventus-related repositories are available under [Github THU-DSP-LAB](https://github.com/THU-DSP-LAB).  \n",
    "The [ventus-env](https://github.com/THU-DSP-LAB/ventus-env/tree/MICRO2025) repository aggregates all subprojects,\n",
    "including the Chisel RTL, simulators, compiler, and software stack.  \n",
    "\n",
    "This tutorial will be conducted in the ventus-env repository.\n",
    "Use the following commands to fetch and initialize the repository:"
   ]
  },
  {
   "cell_type": "code",
   "execution_count": null,
   "id": "ce26a2aa",
   "metadata": {
    "vscode": {
     "languageId": "shellscript"
    }
   },
   "outputs": [],
   "source": [
    "# Do not need this today, as you are already in ventus-env\n",
    "\n",
    "# git clone https://github.com/THU-DSP-LAB/ventus-env -b MICRO2025\n",
    "# cd ventus-env\n",
    "# make init"
   ]
  },
  {
   "cell_type": "markdown",
   "id": "ce462748",
   "metadata": {},
   "source": [
    "Use the script `build-ventus.sh` to build all projects in one step and install them under `./install/`.   \n",
    "You can pass `--build` to build a single component; use `--help` for more details."
   ]
  },
  {
   "cell_type": "code",
   "execution_count": null,
   "id": "4b366e37",
   "metadata": {
    "vscode": {
     "languageId": "shellscript"
    }
   },
   "outputs": [],
   "source": [
    "# Do not need this today, as they have already been built\n",
    "\n",
    "# bash build-ventus.sh"
   ]
  },
  {
   "cell_type": "code",
   "execution_count": null,
   "id": "81168490",
   "metadata": {
    "vscode": {
     "languageId": "shellscript"
    }
   },
   "outputs": [],
   "source": [
    "# But let's have a try to build one single project\n",
    "bash build-ventus.sh --build gpgpu  # Chisel RTL + verilator simulation\n",
    "# It's normal to get few outputs, because they were pre-built."
   ]
  },
  {
   "cell_type": "code",
   "execution_count": null,
   "id": "545c0c35",
   "metadata": {
    "vscode": {
     "languageId": "shellscript"
    }
   },
   "outputs": [],
   "source": [
    "# Build results are installed to `./install` folder\n",
    "ls install/"
   ]
  },
  {
   "cell_type": "markdown",
   "id": "0bb712a6",
   "metadata": {
    "vscode": {
     "languageId": "shellscript"
    }
   },
   "source": [
    "## First testcase\n",
    "Let's start with a simple testcase from POCL: matrix add"
   ]
  },
  {
   "cell_type": "code",
   "execution_count": null,
   "id": "f6846a06",
   "metadata": {
    "vscode": {
     "languageId": "shellscript"
    }
   },
   "outputs": [],
   "source": [
    "# Set environment variables to let OpenCL App use Ventus\n",
    "# Note: this is needed every time you start a new terminal\n",
    "source env.sh"
   ]
  },
  {
   "cell_type": "code",
   "execution_count": null,
   "id": "44f7231d",
   "metadata": {
    "vscode": {
     "languageId": "shellscript"
    }
   },
   "outputs": [],
   "source": [
    "# Run functional (ISA-level) simulation in ventus-spike\n",
    "./pocl/build/examples/matadd/matadd"
   ]
  },
  {
   "cell_type": "markdown",
   "id": "8b7dcf66",
   "metadata": {},
   "source": [
    "At the end of the output you should see `OK`, indicating the Ventus result matches the CPU result for this test.\n",
    "\n",
    "You will also see information about the test case, for example:\n",
    "```bash\n",
    "numw:1   # There is 1 wavefront (warp) in each workgroup (thread block)\n",
    "numt:32  # There are 32 workitems (thread) in each wavefront\n",
    "numwg:1  # There is 1 workgroup (thread block) of this kernel\n",
    "kernelx:1,kernely:1,kernelz:1  # The workgroups are arranged as a 1x1x1 grid across the three dimensions\n",
    "```"
   ]
  },
  {
   "cell_type": "markdown",
   "id": "a017aa14",
   "metadata": {},
   "source": [
    "## Functional setup\n",
    "### Multiple simulation backends"
   ]
  },
  {
   "cell_type": "markdown",
   "id": "cd5ad962",
   "metadata": {},
   "source": [
    "Ventus driver supports switching among multiple simulation backends:\n",
    "* Verilator-based RTL simulator (`rtl`)\n",
    "* SystemC-based cycle-level simulator (`cycle`)\n",
    "* Spike-based ISA simulator (`isa` or `spike`)"
   ]
  },
  {
   "cell_type": "code",
   "execution_count": null,
   "id": "529d6e4c",
   "metadata": {
    "vscode": {
     "languageId": "shellscript"
    }
   },
   "outputs": [],
   "source": [
    "# Now let's try vector add testcase on these simulation backends\n",
    "cd pocl/build/examples/vecadd\n",
    "VENTUS_BACKEND=isa   ./vecadd 128 64 &> isa.log    && echo isa sim ok\n",
    "VENTUS_BACKEND=cycle ./vecadd 128 64 &> cycle.log  && echo cycle sim ok\n",
    "VENTUS_BACKEND=rtl   ./vecadd 128 64 &> rtl.log    && echo rtl sim ok\n",
    "cd - > /dev/null"
   ]
  },
  {
   "cell_type": "code",
   "execution_count": null,
   "id": "d00cd3eb",
   "metadata": {
    "vscode": {
     "languageId": "shellscript"
    }
   },
   "outputs": [],
   "source": [
    "# What's in the log?\n",
    "cd pocl/build/examples/vecadd\n",
    "echo -e \"\\nISA SIM OUTPUT:\" && egrep \"arg gpgpu\"       isa.log\n",
    "echo -e \"\\nISA SIM LOG:\"    && egrep \"endprg|finished\" vecadd_0.log\n",
    "echo -e \"\\nCYCLE SIM LOG:\"  && egrep \"endprg|finished\" cycle.log\n",
    "echo -e \"\\nRTL SIM LOG:\"    && egrep \"endprg|finished\" rtl.log\n",
    "cd - > /dev/null"
   ]
  },
  {
   "cell_type": "markdown",
   "id": "ae7c2927",
   "metadata": {},
   "source": [
    "All three simulators can emit per-instruction logs. See the simulators’ READMEs for details.\n",
    "\n",
    "From the logs above, we known that this test has 2 workgroups, each containing 2 wavefronts.  \n",
    "In the cycle and RTL simulator outputs, you can locate the exit points (`endprg`) and corresponding timestamps for these 4 wavefronts.  \n",
    "* The cycle simulator finishes at 25,375 ns; with 10 ns per cycle, that is 2,537 cycles.\n",
    "* The RTL simulation finishes at time 7005; with 10 time units per cycle, that is 700 cycles.\n",
    "* The main difference comes from the cycle simulator integrating a Ramulator-based DDR timing model, which increases runtime."
   ]
  },
  {
   "cell_type": "code",
   "execution_count": null,
   "id": "1c1f8221",
   "metadata": {
    "vscode": {
     "languageId": "shellscript"
    }
   },
   "outputs": [],
   "source": [
    "# Turn off DDR timing in cycle-level simulation\n",
    "cd pocl/build/examples/vecadd\n",
    "VENTUS_BACKEND=cycle VENTUS_TIMING_DDR=0 ./vecadd 128 64 |& grep \"vecadd finished\"\n",
    "cd - > /dev/null"
   ]
  },
  {
   "cell_type": "markdown",
   "id": "19b76c6b",
   "metadata": {},
   "source": [
    "After turing off DDR timing simulation, cyclesim will get a much closer timing result to RTLsim.   \n",
    "(25375→5775  VS  7000)"
   ]
  },
  {
   "cell_type": "markdown",
   "id": "44ec3f1b",
   "metadata": {
    "vscode": {
     "languageId": "shellscript"
    }
   },
   "source": [
    "### Tools\n",
    "\n",
    "There are several functional environment variables, for example:\n",
    "* Setting `VENTUS_WAVEFORM=1` enables the rtlsim backend to dump FST waveforms and the cyclesim backend to dump VCD waveforms.\n",
    "* Setting `VENTUS_DUMP_RESULT=filename.json` saves all data copied from the device to the host by OpenCL programs, along with their device addresses, into the specified JSON file for debugging.\n",
    "* Setting `VENTUS_TIMING_DDR=0` disables cyclesim backend to calculating DDR timing with ramulator, which is enabled by default. RTL backend does not support DDR timing now. \n",
    "\n",
    "Dumping waveforms significantly slows down simulation.  \n",
    "The RTL simulation supports dumping waveforms only for a selected time window to reduce overhead."
   ]
  },
  {
   "cell_type": "code",
   "execution_count": null,
   "id": "816f8eea",
   "metadata": {
    "vscode": {
     "languageId": "shellscript"
    }
   },
   "outputs": [],
   "source": [
    "# Dump waveform in RTL simulation\n",
    "cd pocl/build/examples/matadd\n",
    "VENTUS_BACKEND=rtl VENTUS_WAVEFORM=1 VENTUS_DUMP_RESULT=matadd.rtl.json ./matadd &> matadd.rtl.log\n",
    "ls -alFh waveform.rtl.fst matadd.rtl.json\n",
    "cat matadd.rtl.json\n",
    "cd - > /dev/null"
   ]
  },
  {
   "cell_type": "code",
   "execution_count": null,
   "id": "d33c9e27",
   "metadata": {
    "vscode": {
     "languageId": "shellscript"
    }
   },
   "outputs": [],
   "source": [
    "# Dump waveform and result in cycle-level simulation\n",
    "cd pocl/build/examples/matadd\n",
    "VENTUS_BACKEND=cycle VENTUS_WAVEFORM=1 VENTUS_DUMP_RESULT=matadd.cycle.json ./matadd &> matadd.cycle.log\n",
    "ls -alFh waveform.cycle.vcd matadd.cycle.json\n",
    "cd - > /dev/null"
   ]
  },
  {
   "cell_type": "markdown",
   "id": "fb32b33f",
   "metadata": {},
   "source": [
    "## Testcases and regression \n",
    "\n",
    "Ventus currently runs a subset of the gpu-rodinia benchmark suite correctly (in `rodinia/opencl/`).  \n",
    "We also write several typical OpenCL testcases under `testcases/`.  \n",
    "\n",
    "We modified the Rodinia cases to compare Ventus outputs with CPU/NVIDIA outputs to form regression tests.  \n",
    "`ventus-env` provides a regression script that can run on all three simulation backends.\n",
    "\n",
    "Before running, we recommend tuning the following arguments of `regression-test.py` to match your machine’s performance:\n",
    "* `-t TIMEOUT_SCALE`: Timeout scale (default: 1). Increase this to allow testcases to run longer. Timeouts are treated as failures.\n",
    "* `-j JOBS`: Parallel multi-process num (default: auto). Note that in RTL simulation, each process has 8 multi-threads by default."
   ]
  },
  {
   "cell_type": "code",
   "execution_count": null,
   "id": "4085b4b3",
   "metadata": {
    "vscode": {
     "languageId": "shellscript"
    }
   },
   "outputs": [],
   "source": [
    "VENTUS_BACKEND=isa python3 regression-test.py -t 1\n",
    "\n",
    "# These are slow\n",
    "# VENTUS_BACKEND=cycle python3 regression-test.py\n",
    "# VENTUS_BACKEND=rtl   python3 regression-test.py"
   ]
  },
  {
   "cell_type": "code",
   "execution_count": null,
   "id": "09141a47",
   "metadata": {
    "vscode": {
     "languageId": "shellscript"
    }
   },
   "outputs": [],
   "source": [
    "# regression test logs are saved\n",
    "ls regression-test-logs/"
   ]
  },
  {
   "cell_type": "markdown",
   "id": "82693c67",
   "metadata": {},
   "source": [
    "If you want to run testcases manully, do as follows: \n",
    "1. go into the testcase's path\n",
    "2. run `make` manually\n",
    "3. run the executable, or use `./run` if it exists\n",
    "* for excutables who need arguments, a `run` script is provided\n",
    "* suitable for both rodinia and ventus-opencl-testcase"
   ]
  },
  {
   "cell_type": "code",
   "execution_count": null,
   "id": "d49282e7",
   "metadata": {
    "vscode": {
     "languageId": "shellscript"
    }
   },
   "outputs": [],
   "source": [
    "# Let's have a look at MNIST_conv testcase (3-layer CNN digit recognition)\n",
    "\n",
    "# cd testcases/_get_case/MNIST_conv         # This is slow\n",
    "cd testcases/_get_case/MNIST_conv_tiny      # Smaller mnist testcase for quick demo\n",
    "make &> /dev/null\n",
    "VENTUS_BACKEND=rtl ./conv.out |& sed -n '/CONV3/,$p' | head -n 14\n",
    "cd - > /dev/null"
   ]
  },
  {
   "cell_type": "markdown",
   "id": "7813758e",
   "metadata": {},
   "source": [
    "## OpenCL Conformance Test Suite (CTS)\n",
    "\n",
    "The Ventus software stack passes most tests in the OpenCL CTS regression suite.\n",
    "\n",
    "The OpenCL CTS is large and time-consuming under simulation; here we demonstrate running a single test on Spike."
   ]
  },
  {
   "cell_type": "code",
   "execution_count": null,
   "id": "b55237f3",
   "metadata": {
    "vscode": {
     "languageId": "shellscript"
    }
   },
   "outputs": [],
   "source": [
    "cd OpenCL-CTS/build/test_conformance/\n",
    "# ./basic/test_basic --help                   # check which tests are available\n",
    "./basic/test_basic intmath_int4 |& tail -n 4  # run a specific test\n",
    "cd - > /dev/null"
   ]
  },
  {
   "cell_type": "markdown",
   "id": "bb9c103a",
   "metadata": {},
   "source": [
    "# Optional part\n",
    "## RTL specification change\n",
    "The hardware configuration can be modified in `gpgpu/ventus/src/top/parameters.scala`.   \n",
    "For example:\n",
    "```diff\n",
    "--- a/ventus/src/top/parameters.scala\n",
    "+++ b/ventus/src/top/parameters.scala\n",
    "@@ -4,9 +4,9 @@ import L2cache.{CacheParameters, InclusiveCacheMicroParameters, InclusiveCachePa\n",
    " import chisel3.util._\n",
    " \n",
    " object parameters { //notice log2Ceil(4) returns 2.that is ,n is the total num, not the last idx.\n",
    "-  def num_sm = 2\n",
    "-  var num_warp = 8\n",
    "-  var num_thread = 32\n",
    "+  def num_sm = 1\n",
    "+  var num_warp = 4\n",
    "+  var num_thread = 16\n",
    "   val SINGLE_INST: Boolean = false\n",
    "   val SPIKE_OUTPUT: Boolean = true\n",
    "   val INST_CNT: Boolean = true\n",
    "```"
   ]
  }
 ],
 "metadata": {
  "kernelspec": {
   "display_name": "Bash",
   "language": "bash",
   "name": "bash"
  },
  "language_info": {
   "codemirror_mode": "shell",
   "file_extension": ".sh",
   "mimetype": "text/x-sh",
   "name": "bash"
  }
 },
 "nbformat": 4,
 "nbformat_minor": 5
}
